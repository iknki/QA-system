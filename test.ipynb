{
 "cells": [
  {
   "cell_type": "code",
   "execution_count": 3,
   "id": "initial_id",
   "metadata": {
    "ExecuteTime": {
     "end_time": "2024-04-02T07:51:27.694743600Z",
     "start_time": "2024-04-02T07:51:27.183707500Z"
    },
    "collapsed": true
   },
   "outputs": [
    {
     "name": "stdout",
     "output_type": "stream",
     "text": [
      "Elasticsearch连接成功\n"
     ]
    }
   ],
   "source": [
    "from elasticsearch import Elasticsearch\n",
    "\n",
    "\n",
    "username = \"elastic\"\n",
    "password = \"w9nF5G7Pjt_lpVAcbqFy\"\n",
    "\n",
    "# 连接到 Elasticsearch，提供用户名和密码进行身份验证\n",
    "es = Elasticsearch(\"http://127.0.0.1:9200\", basic_auth=(username, password))\n",
    "# 测试连接\n",
    "if es.ping():\n",
    "    print(\"Elasticsearch连接成功\")\n",
    "else:\n",
    "    print(\"Elasticsearch连接失败\")"
   ]
  },
  {
   "cell_type": "code",
   "execution_count": 2,
   "id": "f92063c3f6881319",
   "metadata": {
    "ExecuteTime": {
     "end_time": "2024-04-02T07:42:09.523317700Z",
     "start_time": "2024-04-02T07:42:08.501159Z"
    },
    "collapsed": false
   },
   "outputs": [
    {
     "name": "stdout",
     "output_type": "stream",
     "text": [
      "Index 'book' created successfully.\n"
     ]
    }
   ],
   "source": [
    "def create_index(index_name, es):\n",
    "    index_body = {\n",
    "        \"mappings\": {\n",
    "            \"properties\": {\n",
    "                \"title\": {\n",
    "                    \"type\": \"text\",\n",
    "                    \"analyzer\": \"ik_max_word\",  # 使用ik分词器进行分词处理\n",
    "                    \"search_analyzer\": \"ik_smart\"\n",
    "                },\n",
    "                \"info\": {\n",
    "                    \"type\": \"text\",\n",
    "                    \"analyzer\": \"ik_max_word\",  # 使用ik分词器进行分词处理\n",
    "                    \"search_analyzer\": \"ik_smart\"\n",
    "                }\n",
    "            }\n",
    "        }\n",
    "    }\n",
    "    es.indices.create(index = index_name, body = index_body)\n",
    "    print(f\"Index '{index_name}' created successfully.\")\n",
    "\n",
    "index_name =\"book\"\n",
    "# 创建索引\n",
    "create_index(index_name,es)\n"
   ]
  },
  {
   "cell_type": "code",
   "execution_count": 3,
   "id": "d8c862babe406b44",
   "metadata": {
    "ExecuteTime": {
     "end_time": "2024-04-02T07:53:15.878732100Z",
     "start_time": "2024-04-02T07:52:34.096514700Z"
    },
    "collapsed": false
   },
   "outputs": [],
   "source": [
    "from db.ES.ESApi import ESApi\n",
    "es1 = ESApi(\"elastic\", \"w9nF5G7Pjt_lpVAcbqFy\")\n",
    "# 上传文档\n",
    "folder_path = \"./data/books\"\n",
    "index_name = \"book\"\n",
    "es1.load_es_offline(index_name, folder_path)\n"
   ]
  },
  {
   "cell_type": "code",
   "execution_count": 18,
   "id": "a8385fac8e3bf30a",
   "metadata": {
    "ExecuteTime": {
     "end_time": "2024-04-02T09:18:29.758895500Z",
     "start_time": "2024-04-02T09:18:29.732927Z"
    },
    "collapsed": false
   },
   "outputs": [
    {
     "name": "stdout",
     "output_type": "stream",
     "text": [
      "Search results:\n",
      "title: 智慧的疆界\n",
      "info: title:智慧的疆界 rating:9.0 writer:周志明 translator:None pub_info: ISBN: series:None tags:人工智能\n",
      "[{'title': '智慧的疆界', 'info': 'title:智慧的疆界 rating:9.0 writer:周志明 translator:None pub_info: ISBN: series:None tags:人工智能'}]\n",
      "title: 深入理解Java虚拟机（第3版）\n",
      "info: title:深入理解Java虚拟机（第3版） rating:9.5 writer:周志明 translator:None pub_info: ISBN: series:华章原创精品 tags:JVM\n",
      "[{'title': '智慧的疆界', 'info': 'title:智慧的疆界 rating:9.0 writer:周志明 translator:None pub_info: ISBN: series:None tags:人工智能'}, {'title': '深入理解Java虚拟机（第3版）', 'info': 'title:深入理解Java虚拟机（第3版） rating:9.5 writer:周志明 translator:None pub_info: ISBN: series:华章原创精品 tags:JVM'}]\n",
      "title: 深入理解Java虚拟机（第2版）\n",
      "info: title:深入理解Java虚拟机（第2版） rating:9.0 writer:周志明 translator:None pub_info: ISBN: series:华章原创精品 tags:JVM\n",
      "[{'title': '智慧的疆界', 'info': 'title:智慧的疆界 rating:9.0 writer:周志明 translator:None pub_info: ISBN: series:None tags:人工智能'}, {'title': '深入理解Java虚拟机（第3版）', 'info': 'title:深入理解Java虚拟机（第3版） rating:9.5 writer:周志明 translator:None pub_info: ISBN: series:华章原创精品 tags:JVM'}, {'title': '深入理解Java虚拟机（第2版）', 'info': 'title:深入理解Java虚拟机（第2版） rating:9.0 writer:周志明 translator:None pub_info: ISBN: series:华章原创精品 tags:JVM'}]\n",
      "title: 忧郁的热带\n",
      "info: title:忧郁的热带 rating:9.1 writer: translator:王志明 pub_info: ISBN: series:学术前沿 tags:人类学\n",
      "[{'title': '智慧的疆界', 'info': 'title:智慧的疆界 rating:9.0 writer:周志明 translator:None pub_info: ISBN: series:None tags:人工智能'}, {'title': '深入理解Java虚拟机（第3版）', 'info': 'title:深入理解Java虚拟机（第3版） rating:9.5 writer:周志明 translator:None pub_info: ISBN: series:华章原创精品 tags:JVM'}, {'title': '深入理解Java虚拟机（第2版）', 'info': 'title:深入理解Java虚拟机（第2版） rating:9.0 writer:周志明 translator:None pub_info: ISBN: series:华章原创精品 tags:JVM'}, {'title': '忧郁的热带', 'info': 'title:忧郁的热带 rating:9.1 writer: translator:王志明 pub_info: ISBN: series:学术前沿 tags:人类学'}]\n",
      "title: 忧郁的热带\n",
      "info: title:忧郁的热带 rating:9.1 writer: translator:王志明 pub_info: ISBN: series:学术前沿 tags:人类学\n",
      "[{'title': '智慧的疆界', 'info': 'title:智慧的疆界 rating:9.0 writer:周志明 translator:None pub_info: ISBN: series:None tags:人工智能'}, {'title': '深入理解Java虚拟机（第3版）', 'info': 'title:深入理解Java虚拟机（第3版） rating:9.5 writer:周志明 translator:None pub_info: ISBN: series:华章原创精品 tags:JVM'}, {'title': '深入理解Java虚拟机（第2版）', 'info': 'title:深入理解Java虚拟机（第2版） rating:9.0 writer:周志明 translator:None pub_info: ISBN: series:华章原创精品 tags:JVM'}, {'title': '忧郁的热带', 'info': 'title:忧郁的热带 rating:9.1 writer: translator:王志明 pub_info: ISBN: series:学术前沿 tags:人类学'}, {'title': '忧郁的热带', 'info': 'title:忧郁的热带 rating:9.1 writer: translator:王志明 pub_info: ISBN: series:学术前沿 tags:人类学'}]\n"
     ]
    }
   ],
   "source": [
    "import json\n",
    "# 索引名称\n",
    "index_name = \"book\"\n",
    "\n",
    "array = []\n",
    "\n",
    "\n",
    "# 查询字符串\n",
    "query = \"周志明\"\n",
    "\n",
    "# 构建查询语句\n",
    "body = {\n",
    "    \"query\": {\n",
    "        \"multi_match\": {\n",
    "            \"query\": query,\n",
    "            \"fields\": [\"title\", \"info\"]\n",
    "        }\n",
    "    },\n",
    "    \"size\": 5\n",
    "}\n",
    "\n",
    "# 执行查询\n",
    "results = es.search(index=index_name, body=body)\n",
    "\n",
    "# 输出结果\n",
    "print(\"Search results:\")\n",
    "for hit in results[\"hits\"][\"hits\"]:\n",
    "    print(\"title:\", hit[\"_source\"][\"title\"])\n",
    "    print(\"info:\", hit[\"_source\"][\"info\"])\n",
    "    array.append({\"title\":hit[\"_source\"][\"title\"],\"info\":hit[\"_source\"][\"info\"]})\n",
    "    print(array)\n"
   ]
  },
  {
   "cell_type": "code",
   "execution_count": 4,
   "id": "2d61473352dfa971",
   "metadata": {
    "ExecuteTime": {
     "end_time": "2024-04-02T09:25:46.542194400Z",
     "start_time": "2024-04-02T09:25:46.530714700Z"
    },
    "collapsed": false
   },
   "outputs": [
    {
     "name": "stdout",
     "output_type": "stream",
     "text": [
      "你是一名资深的知识库管理员，非常了解知识库的信息，但除了知识库以外的东西一无所知，你需要根据知识库提供的知识作出回答,回答问题时，你只能给出知识库的内容，不能自我发挥。\n",
      "请认真学习下列信息：\n",
      "    知识库内容：{0}\n",
      "    请注意知识库内容中，共有五组知识，每组知识包含title和info两个字段，info字段内容是你做答的依据，你需要从五组数据从选择合适的知识进行回答，不要自我发挥，不能回答没有给出的内容。\n",
      "请学习这个例子:\n",
      "    回答“周志明的作品有哪些”。根据知识库 {{'title': '智慧的疆界', 'info': 'title:智慧的疆界 rating:9.0 writer:周志明 translator:None pub_info: ISBN: series:None tags:人工智能'}, {'title': '深入理解Java虚拟机（第3版）', 'info': 'title:深入理解Java虚拟机（第3版） rating:9.5 writer:周志明 translator:None pub_info: ISBN: series:华章原创精品 tags:JVM'}, {'title': '深入理解Java虚拟机（第2版）', 'info': 'title:深入理解Java虚拟机（第2版） rating:9.0 writer:周志明 translator:None pub_info: ISBN: series:华章原创精品 tags:JVM'}, {'title': '忧郁的热带', 'info': 'title:忧郁的热带 rating:9.1 writer: translator:王志明 pub_info: ISBN: series:学术前沿 tags:人类学'}, {'title': '忧郁的热带', 'info': 'title:忧郁的热带 rating:9.1 writer: translator:王志明 pub_info: ISBN: series:学术前沿 tags:人类学'}}，\n",
      "    分析知识库可知，作者是周志明的书有\"智慧的疆界,深入理解Java虚拟机（第3版）,深入理解Java虚拟机（第2版）\"。\n",
      "    那么你的回答就应该是:\n",
      "    {{\n",
      "             周志明的作品有智慧的疆界,深入理解Java虚拟机（第3版）,深入理解Java虚拟机（第2版）\n",
      "    }}\n",
      "要求:\n",
      "1. 先分析我的问题，然后严格按照知识库的内容回答问题，不能回答知识库没有给出的内容。\n",
      "2. 回答的内容不能含有所给知识没有的部分，不要自我发挥！！！。\n",
      "\n"
     ]
    }
   ],
   "source": [
    "from llmmodel.Prompt import Prompt\n",
    "\n",
    "prompt = Prompt('./prompt.json').get_prompt()\n",
    "print(prompt)"
   ]
  },
  {
   "cell_type": "code",
   "execution_count": null,
   "id": "69a607a92d0791e2",
   "metadata": {
    "collapsed": false
   },
   "outputs": [],
   "source": [
    "title: 智慧的疆界\n",
    "info: title:智慧的疆界 rating:9.0 writer:周志明 translator:None pub_info: ISBN: series:None tags:人工智能\n",
    "\n",
    "title: 深入理解Java虚拟机（第3版）\n",
    "Info: title:深入理解Java虚拟机（第3版） rating:9.5 writer:周志明 translator:None pub_info: ISBN: series:华章原创精品 tags:JVM\n",
    "\n",
    "Title: 深入理解Java虚拟机（第2版）\n",
    "Info: title:深入理解Java虚拟机（第2版） rating:9.0 writer:周志明 translator:None pub_info: ISBN: series:华章原创精品 tags:JVM\n",
    "\n",
    "Title: 忧郁的热带\n",
    "Info: title:忧郁的热带 rating:9.1 writer: translator:王志明 pub_info: ISBN: series:学术前沿 tags:人类学\n",
    "\n",
    "Title: 忧郁的热带\n",
    "Info: title:忧郁的热带 rating:9.1 writer: translator:王志明 pub_info: ISBN: series:学术前沿 tags:人类学"
   ]
  }
 ],
 "metadata": {
  "kernelspec": {
   "display_name": "Python 3",
   "language": "python",
   "name": "python3"
  },
  "language_info": {
   "codemirror_mode": {
    "name": "ipython",
    "version": 3
   },
   "file_extension": ".py",
   "mimetype": "text/x-python",
   "name": "python",
   "nbconvert_exporter": "python",
   "pygments_lexer": "ipython3",
   "version": "3.10.11"
  }
 },
 "nbformat": 4,
 "nbformat_minor": 5
}
